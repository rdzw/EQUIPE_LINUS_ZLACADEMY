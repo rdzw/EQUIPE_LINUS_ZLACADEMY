{
 "cells": [
  {
   "cell_type": "code",
   "execution_count": 20,
   "metadata": {},
   "outputs": [
    {
     "name": "stdout",
     "output_type": "stream",
     "text": [
      "('a', 'i', 'u', 'o')\n",
      "('a', 'e', 'i', 'o', 'u')\n"
     ]
    }
   ],
   "source": [
    "vogais = (\"a\", \"i\", \"u\", \"o\")\n",
    "\n",
    "print(vogais)\n",
    "\n",
    "vogais_lista = list(vogais)\n",
    "\n",
    "vogais_lista.insert(1, \"e\")\n",
    "\n",
    "vogais_lista.pop(3)\n",
    "\n",
    "vogais_lista.append(\"u\")\n",
    "\n",
    "vogais = tuple(vogais_lista)\n",
    "\n",
    "print(vogais)\n",
    "\n"
   ]
  },
  {
   "cell_type": "code",
   "execution_count": 13,
   "metadata": {},
   "outputs": [
    {
     "name": "stdout",
     "output_type": "stream",
     "text": [
      "{1, 2, 3, 4}\n"
     ]
    }
   ],
   "source": [
    "# Criando um conjunto (set)\n",
    "meu_set = {5, 2, 3, 1, 4}\n",
    "\n",
    "novo_set = {1, 4, 3, 2}\n",
    "\n",
    "print(novo_set)\n",
    "\n",
    "# Ordenando o conjunto e armazenando o resultado em uma nova variável\n",
    "# conjunto_ordenado = sorted(meu_set)\n",
    "\n",
    "# print(conjunto_ordenado)  # [1, 2, 3, 4, 5]"
   ]
  }
 ],
 "metadata": {
  "kernelspec": {
   "display_name": "Python 3",
   "language": "python",
   "name": "python3"
  },
  "language_info": {
   "codemirror_mode": {
    "name": "ipython",
    "version": 3
   },
   "file_extension": ".py",
   "mimetype": "text/x-python",
   "name": "python",
   "nbconvert_exporter": "python",
   "pygments_lexer": "ipython3",
   "version": "3.12.4"
  }
 },
 "nbformat": 4,
 "nbformat_minor": 2
}
